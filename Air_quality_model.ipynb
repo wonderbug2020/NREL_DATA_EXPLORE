{
 "cells": [
  {
   "cell_type": "code",
   "execution_count": 13,
   "id": "e3bd8a95",
   "metadata": {},
   "outputs": [],
   "source": [
    "# prepare data for lstm\n",
    "from pandas import read_csv\n",
    "from pandas import DataFrame\n",
    "from pandas import concat\n",
    "from sklearn.preprocessing import LabelEncoder\n",
    "from sklearn.preprocessing import MinMaxScaler\n",
    "from keras.models import Sequential"
   ]
  },
  {
   "cell_type": "code",
   "execution_count": 2,
   "id": "ad7478b4",
   "metadata": {},
   "outputs": [],
   "source": [
    "# convert series to supervised learning\n",
    "def series_to_supervised(data, n_in=1, n_out=1, dropnan=True):\n",
    "\tn_vars = 1 if type(data) is list else data.shape[1]\n",
    "\tdf = DataFrame(data)\n",
    "\tcols, names = list(), list()\n",
    "\t# input sequence (t-n, ... t-1)\n",
    "\tfor i in range(n_in, 0, -1):\n",
    "\t\tcols.append(df.shift(i))\n",
    "\t\tnames += [('var%d(t-%d)' % (j+1, i)) for j in range(n_vars)]\n",
    "\t# forecast sequence (t, t+1, ... t+n)\n",
    "\tfor i in range(0, n_out):\n",
    "\t\tcols.append(df.shift(-i))\n",
    "\t\tif i == 0:\n",
    "\t\t\tnames += [('var%d(t)' % (j+1)) for j in range(n_vars)]\n",
    "\t\telse:\n",
    "\t\t\tnames += [('var%d(t+%d)' % (j+1, i)) for j in range(n_vars)]\n",
    "\t# put it all together\n",
    "\tagg = concat(cols, axis=1)\n",
    "\tagg.columns = names\n",
    "\t# drop rows with NaN values\n",
    "\tif dropnan:\n",
    "\t\tagg.dropna(inplace=True)\n",
    "\treturn agg"
   ]
  },
  {
   "cell_type": "code",
   "execution_count": 4,
   "id": "d39b0a45",
   "metadata": {},
   "outputs": [],
   "source": [
    "# load dataset\n",
    "dataset = read_csv('data/pollution.csv', header=0, index_col=0)\n",
    "values = dataset.values"
   ]
  },
  {
   "cell_type": "code",
   "execution_count": 5,
   "id": "ed7a9091",
   "metadata": {},
   "outputs": [],
   "source": [
    "# integer encode direction\n",
    "encoder = LabelEncoder()\n",
    "values[:,4] = encoder.fit_transform(values[:,4])"
   ]
  },
  {
   "cell_type": "code",
   "execution_count": 6,
   "id": "0a1f74f8",
   "metadata": {},
   "outputs": [],
   "source": [
    "# ensure all data is float\n",
    "values = values.astype('float32')"
   ]
  },
  {
   "cell_type": "code",
   "execution_count": 7,
   "id": "d70260ac",
   "metadata": {},
   "outputs": [],
   "source": [
    "# normalize features\n",
    "scaler = MinMaxScaler(feature_range=(0, 1))\n",
    "scaled = scaler.fit_transform(values)"
   ]
  },
  {
   "cell_type": "code",
   "execution_count": 8,
   "id": "aedbcfd6",
   "metadata": {},
   "outputs": [],
   "source": [
    "# frame as supervised learning\n",
    "reframed = series_to_supervised(scaled, 1, 1)"
   ]
  },
  {
   "cell_type": "code",
   "execution_count": 9,
   "id": "09c0cc0d",
   "metadata": {},
   "outputs": [
    {
     "name": "stdout",
     "output_type": "stream",
     "text": [
      "   var1(t-1)  var2(t-1)  var3(t-1)  var4(t-1)  var5(t-1)  var6(t-1)  \\\n",
      "1   0.129779   0.352941   0.245902   0.527273   0.666667   0.002290   \n",
      "2   0.148893   0.367647   0.245902   0.527273   0.666667   0.003811   \n",
      "3   0.159960   0.426471   0.229508   0.545454   0.666667   0.005332   \n",
      "4   0.182093   0.485294   0.229508   0.563637   0.666667   0.008391   \n",
      "5   0.138833   0.485294   0.229508   0.563637   0.666667   0.009912   \n",
      "\n",
      "   var7(t-1)  var8(t-1)   var1(t)  \n",
      "1   0.000000        0.0  0.148893  \n",
      "2   0.000000        0.0  0.159960  \n",
      "3   0.000000        0.0  0.182093  \n",
      "4   0.037037        0.0  0.138833  \n",
      "5   0.074074        0.0  0.109658  \n"
     ]
    }
   ],
   "source": [
    "# drop columns we don't want to predict\n",
    "reframed.drop(reframed.columns[[9,10,11,12,13,14,15]], axis=1, inplace=True)\n",
    "print(reframed.head())"
   ]
  },
  {
   "cell_type": "code",
   "execution_count": 32,
   "id": "372d83b6",
   "metadata": {},
   "outputs": [
    {
     "name": "stdout",
     "output_type": "stream",
     "text": [
      "(8760, 1, 8) (8760,) (35039, 1, 8) (35039,)\n"
     ]
    }
   ],
   "source": [
    "# split into train and test sets\n",
    "values = reframed.values\n",
    "n_train_hours = 365 * 24\n",
    "train = values[:n_train_hours, :]\n",
    "test = values[n_train_hours:, :]\n",
    "# split into input and outputs\n",
    "train_X, train_y = train[:, :-1], train[:, -1]\n",
    "test_X, test_y = test[:, :-1], test[:, -1]\n",
    "# reshape input to be 3D [samples, timesteps, features]\n",
    "train_X = train_X.reshape((train_X.shape[0], 1, train_X.shape[1]))\n",
    "test_X = test_X.reshape((test_X.shape[0], 1, test_X.shape[1]))\n",
    "print(train_X.shape, train_y.shape, test_X.shape, test_y.shape)"
   ]
  },
  {
   "cell_type": "code",
   "execution_count": 33,
   "id": "3aa8da12",
   "metadata": {},
   "outputs": [],
   "source": [
    "from tensorflow.keras.layers import LSTM\n",
    "from keras.layers import Dense\n",
    "import matplotlib.pyplot as plt\n",
    "from numpy import concatenate\n",
    "from math import sqrt\n",
    "from sklearn.metrics import mean_squared_error"
   ]
  },
  {
   "cell_type": "code",
   "execution_count": 19,
   "id": "bd23e090",
   "metadata": {
    "scrolled": true
   },
   "outputs": [
    {
     "name": "stdout",
     "output_type": "stream",
     "text": [
      "Epoch 1/50\n",
      "122/122 - 3s - loss: 0.0641 - val_loss: 0.0582\n",
      "Epoch 2/50\n",
      "122/122 - 0s - loss: 0.0428 - val_loss: 0.0688\n",
      "Epoch 3/50\n",
      "122/122 - 0s - loss: 0.0272 - val_loss: 0.0558\n",
      "Epoch 4/50\n",
      "122/122 - 0s - loss: 0.0188 - val_loss: 0.0440\n",
      "Epoch 5/50\n",
      "122/122 - 0s - loss: 0.0161 - val_loss: 0.0304\n",
      "Epoch 6/50\n",
      "122/122 - 0s - loss: 0.0151 - val_loss: 0.0193\n",
      "Epoch 7/50\n",
      "122/122 - 0s - loss: 0.0149 - val_loss: 0.0171\n",
      "Epoch 8/50\n",
      "122/122 - 0s - loss: 0.0147 - val_loss: 0.0160\n",
      "Epoch 9/50\n",
      "122/122 - 0s - loss: 0.0147 - val_loss: 0.0158\n",
      "Epoch 10/50\n",
      "122/122 - 0s - loss: 0.0148 - val_loss: 0.0155\n",
      "Epoch 11/50\n",
      "122/122 - 0s - loss: 0.0147 - val_loss: 0.0152\n",
      "Epoch 12/50\n",
      "122/122 - 0s - loss: 0.0146 - val_loss: 0.0151\n",
      "Epoch 13/50\n",
      "122/122 - 0s - loss: 0.0146 - val_loss: 0.0149\n",
      "Epoch 14/50\n",
      "122/122 - 0s - loss: 0.0148 - val_loss: 0.0144\n",
      "Epoch 15/50\n",
      "122/122 - 0s - loss: 0.0146 - val_loss: 0.0147\n",
      "Epoch 16/50\n",
      "122/122 - 0s - loss: 0.0147 - val_loss: 0.0141\n",
      "Epoch 17/50\n",
      "122/122 - 0s - loss: 0.0145 - val_loss: 0.0143\n",
      "Epoch 18/50\n",
      "122/122 - 0s - loss: 0.0147 - val_loss: 0.0141\n",
      "Epoch 19/50\n",
      "122/122 - 0s - loss: 0.0145 - val_loss: 0.0142\n",
      "Epoch 20/50\n",
      "122/122 - 0s - loss: 0.0146 - val_loss: 0.0138\n",
      "Epoch 21/50\n",
      "122/122 - 0s - loss: 0.0145 - val_loss: 0.0143\n",
      "Epoch 22/50\n",
      "122/122 - 1s - loss: 0.0147 - val_loss: 0.0140\n",
      "Epoch 23/50\n",
      "122/122 - 0s - loss: 0.0145 - val_loss: 0.0139\n",
      "Epoch 24/50\n",
      "122/122 - 0s - loss: 0.0145 - val_loss: 0.0139\n",
      "Epoch 25/50\n",
      "122/122 - 0s - loss: 0.0145 - val_loss: 0.0140\n",
      "Epoch 26/50\n",
      "122/122 - 0s - loss: 0.0145 - val_loss: 0.0138\n",
      "Epoch 27/50\n",
      "122/122 - 0s - loss: 0.0145 - val_loss: 0.0136\n",
      "Epoch 28/50\n",
      "122/122 - 0s - loss: 0.0144 - val_loss: 0.0137\n",
      "Epoch 29/50\n",
      "122/122 - 0s - loss: 0.0145 - val_loss: 0.0137\n",
      "Epoch 30/50\n",
      "122/122 - 0s - loss: 0.0145 - val_loss: 0.0139\n",
      "Epoch 31/50\n",
      "122/122 - 0s - loss: 0.0145 - val_loss: 0.0137\n",
      "Epoch 32/50\n",
      "122/122 - 0s - loss: 0.0145 - val_loss: 0.0138\n",
      "Epoch 33/50\n",
      "122/122 - 0s - loss: 0.0144 - val_loss: 0.0138\n",
      "Epoch 34/50\n",
      "122/122 - 0s - loss: 0.0145 - val_loss: 0.0137\n",
      "Epoch 35/50\n",
      "122/122 - 0s - loss: 0.0144 - val_loss: 0.0139\n",
      "Epoch 36/50\n",
      "122/122 - 0s - loss: 0.0144 - val_loss: 0.0137\n",
      "Epoch 37/50\n",
      "122/122 - 0s - loss: 0.0144 - val_loss: 0.0137\n",
      "Epoch 38/50\n",
      "122/122 - 0s - loss: 0.0145 - val_loss: 0.0137\n",
      "Epoch 39/50\n",
      "122/122 - 0s - loss: 0.0144 - val_loss: 0.0137\n",
      "Epoch 40/50\n",
      "122/122 - 0s - loss: 0.0145 - val_loss: 0.0137\n",
      "Epoch 41/50\n",
      "122/122 - 0s - loss: 0.0144 - val_loss: 0.0138\n",
      "Epoch 42/50\n",
      "122/122 - 0s - loss: 0.0144 - val_loss: 0.0136\n",
      "Epoch 43/50\n",
      "122/122 - 0s - loss: 0.0145 - val_loss: 0.0137\n",
      "Epoch 44/50\n",
      "122/122 - 0s - loss: 0.0144 - val_loss: 0.0136\n",
      "Epoch 45/50\n",
      "122/122 - 0s - loss: 0.0144 - val_loss: 0.0136\n",
      "Epoch 46/50\n",
      "122/122 - 0s - loss: 0.0144 - val_loss: 0.0136\n",
      "Epoch 47/50\n",
      "122/122 - 0s - loss: 0.0144 - val_loss: 0.0136\n",
      "Epoch 48/50\n",
      "122/122 - 0s - loss: 0.0144 - val_loss: 0.0136\n",
      "Epoch 49/50\n",
      "122/122 - 0s - loss: 0.0144 - val_loss: 0.0136\n",
      "Epoch 50/50\n",
      "122/122 - 0s - loss: 0.0144 - val_loss: 0.0136\n"
     ]
    },
    {
     "ename": "NameError",
     "evalue": "name 'plt' is not defined",
     "output_type": "error",
     "traceback": [
      "\u001b[1;31m---------------------------------------------------------------------------\u001b[0m",
      "\u001b[1;31mNameError\u001b[0m                                 Traceback (most recent call last)",
      "\u001b[1;32m~\\AppData\\Local\\Temp/ipykernel_17828/1796969165.py\u001b[0m in \u001b[0;36m<module>\u001b[1;34m\u001b[0m\n\u001b[0;32m      7\u001b[0m \u001b[0mhistory\u001b[0m \u001b[1;33m=\u001b[0m \u001b[0mmodel\u001b[0m\u001b[1;33m.\u001b[0m\u001b[0mfit\u001b[0m\u001b[1;33m(\u001b[0m\u001b[0mtrain_X\u001b[0m\u001b[1;33m,\u001b[0m \u001b[0mtrain_y\u001b[0m\u001b[1;33m,\u001b[0m \u001b[0mepochs\u001b[0m\u001b[1;33m=\u001b[0m\u001b[1;36m50\u001b[0m\u001b[1;33m,\u001b[0m \u001b[0mbatch_size\u001b[0m\u001b[1;33m=\u001b[0m\u001b[1;36m72\u001b[0m\u001b[1;33m,\u001b[0m \u001b[0mvalidation_data\u001b[0m\u001b[1;33m=\u001b[0m\u001b[1;33m(\u001b[0m\u001b[0mtest_X\u001b[0m\u001b[1;33m,\u001b[0m \u001b[0mtest_y\u001b[0m\u001b[1;33m)\u001b[0m\u001b[1;33m,\u001b[0m \u001b[0mverbose\u001b[0m\u001b[1;33m=\u001b[0m\u001b[1;36m2\u001b[0m\u001b[1;33m,\u001b[0m \u001b[0mshuffle\u001b[0m\u001b[1;33m=\u001b[0m\u001b[1;32mFalse\u001b[0m\u001b[1;33m)\u001b[0m\u001b[1;33m\u001b[0m\u001b[1;33m\u001b[0m\u001b[0m\n\u001b[0;32m      8\u001b[0m \u001b[1;31m# plot history\u001b[0m\u001b[1;33m\u001b[0m\u001b[1;33m\u001b[0m\u001b[0m\n\u001b[1;32m----> 9\u001b[1;33m \u001b[0mplt\u001b[0m\u001b[1;33m.\u001b[0m\u001b[0mplot\u001b[0m\u001b[1;33m(\u001b[0m\u001b[0mhistory\u001b[0m\u001b[1;33m.\u001b[0m\u001b[0mhistory\u001b[0m\u001b[1;33m[\u001b[0m\u001b[1;34m'loss'\u001b[0m\u001b[1;33m]\u001b[0m\u001b[1;33m,\u001b[0m \u001b[0mlabel\u001b[0m\u001b[1;33m=\u001b[0m\u001b[1;34m'train'\u001b[0m\u001b[1;33m)\u001b[0m\u001b[1;33m\u001b[0m\u001b[1;33m\u001b[0m\u001b[0m\n\u001b[0m\u001b[0;32m     10\u001b[0m \u001b[0mplt\u001b[0m\u001b[1;33m.\u001b[0m\u001b[0mplot\u001b[0m\u001b[1;33m(\u001b[0m\u001b[0mhistory\u001b[0m\u001b[1;33m.\u001b[0m\u001b[0mhistory\u001b[0m\u001b[1;33m[\u001b[0m\u001b[1;34m'val_loss'\u001b[0m\u001b[1;33m]\u001b[0m\u001b[1;33m,\u001b[0m \u001b[0mlabel\u001b[0m\u001b[1;33m=\u001b[0m\u001b[1;34m'test'\u001b[0m\u001b[1;33m)\u001b[0m\u001b[1;33m\u001b[0m\u001b[1;33m\u001b[0m\u001b[0m\n\u001b[0;32m     11\u001b[0m \u001b[0mplt\u001b[0m\u001b[1;33m.\u001b[0m\u001b[0mlegend\u001b[0m\u001b[1;33m(\u001b[0m\u001b[1;33m)\u001b[0m\u001b[1;33m\u001b[0m\u001b[1;33m\u001b[0m\u001b[0m\n",
      "\u001b[1;31mNameError\u001b[0m: name 'plt' is not defined"
     ]
    }
   ],
   "source": [
    "# design network\n",
    "model = Sequential()\n",
    "model.add(LSTM(50, input_shape=(train_X.shape[1], train_X.shape[2])))\n",
    "model.add(Dense(1))\n",
    "model.compile(loss='mae', optimizer='adam')\n",
    "# fit network\n",
    "history = model.fit(train_X, train_y, epochs=50, batch_size=72, validation_data=(test_X, test_y), verbose=2, shuffle=False)"
   ]
  },
  {
   "cell_type": "code",
   "execution_count": 21,
   "id": "8a222305",
   "metadata": {},
   "outputs": [
    {
     "data": {
      "image/png": "[encoded data removed]",
      "text/plain": [
       "<Figure size 432x288 with 1 Axes>"
      ]
     },
     "metadata": {
      "needs_background": "light"
     },
     "output_type": "display_data"
    }
   ],
   "source": [
    "# plot history\n",
    "plt.plot(history.history['loss'], label='train')\n",
    "plt.plot(history.history['val_loss'], label='test')\n",
    "plt.legend()\n",
    "plt.show()"
   ]
  },
  {
   "cell_type": "code",
   "execution_count": 34,
   "id": "0f2320b9",
   "metadata": {},
   "outputs": [
    {
     "name": "stdout",
     "output_type": "stream",
     "text": [
      "Test RMSE: 26.528\n"
     ]
    }
   ],
   "source": [
    "yhat = model.predict(test_X)\n",
    "test_X = test_X.reshape((test_X.shape[0], test_X.shape[2]))\n",
    "# invert scaling for forecast\n",
    "inv_yhat = concatenate((yhat, test_X[:, 1:]), axis=1)\n",
    "inv_yhat = scaler.inverse_transform(inv_yhat)\n",
    "inv_yhat = inv_yhat[:,0]\n",
    "# invert scaling for actual\n",
    "test_y = test_y.reshape((len(test_y), 1))\n",
    "inv_y = concatenate((test_y, test_X[:, 1:]), axis=1)\n",
    "inv_y = scaler.inverse_transform(inv_y)\n",
    "inv_y = inv_y[:,0]\n",
    "# calculate RMSE\n",
    "rmse = sqrt(mean_squared_error(inv_y, inv_yhat))\n",
    "print('Test RMSE: %.3f' % rmse)"
   ]
  },
  {
   "cell_type": "code",
   "execution_count": null,
   "id": "112a8d33",
   "metadata": {},
   "outputs": [],
   "source": []
  }
 ],
 "metadata": {
  "kernelspec": {
   "display_name": "Python 3 (ipykernel)",
   "language": "python",
   "name": "python3"
  },
  "language_info": {
   "codemirror_mode": {
    "name": "ipython",
    "version": 3
   },
   "file_extension": ".py",
   "mimetype": "text/x-python",
   "name": "python",
   "nbconvert_exporter": "python",
   "pygments_lexer": "ipython3",
   "version": "3.9.7"
  }
 },
 "nbformat": 4,
 "nbformat_minor": 5
}
