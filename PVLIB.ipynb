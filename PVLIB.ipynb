{
 "cells": [
  {
   "cell_type": "code",
   "execution_count": 1,
   "id": "76942b95",
   "metadata": {},
   "outputs": [
    {
     "name": "stderr",
     "output_type": "stream",
     "text": [
      "c:\\users\\jonwo\\miniconda3\\lib\\site-packages\\pvlib\\forecast.py:20: UserWarning: The forecast module algorithms and features are highly experimental. The API may change, the functionality may be consolidated into an io module, or the module may be separated into its own package.\n",
      "  warnings.warn(\n"
     ]
    }
   ],
   "source": [
    "# import forecast models\n",
    "from pvlib.forecast import GFS, NAM, NDFD, HRRR\n",
    "import pandas as pd\n",
    "import datetime\n",
    "import matplotlib.pyplot as plt"
   ]
  },
  {
   "cell_type": "code",
   "execution_count": 2,
   "id": "92cc942b",
   "metadata": {},
   "outputs": [],
   "source": [
    "# specify location\n",
    "latitude = 32.2\n",
    "longitude = -110.9\n",
    "tz = 'US/Arizona'"
   ]
  },
  {
   "cell_type": "code",
   "execution_count": 3,
   "id": "968a7dfd",
   "metadata": {},
   "outputs": [],
   "source": [
    "# specify time range of start of today to 7 days\n",
    "start = pd.Timestamp(datetime.date.today(), tz=tz)\n",
    "end = start + datetime.timedelta(days=7)"
   ]
  },
  {
   "cell_type": "code",
   "execution_count": 4,
   "id": "a5f40396",
   "metadata": {},
   "outputs": [],
   "source": [
    "# GFS model, defaults to 0.5 degree resolution\n",
    "# 0.25 deg available\n",
    "model = GFS()"
   ]
  },
  {
   "cell_type": "code",
   "execution_count": 5,
   "id": "12ca12c8",
   "metadata": {},
   "outputs": [],
   "source": [
    "# retrieve data. returns pandas.DataFrame object\n",
    "data = model.get_processed_data(latitude, longitude,\n",
    "start, end)"
   ]
  },
  {
   "cell_type": "code",
   "execution_count": 6,
   "id": "981aaf88",
   "metadata": {},
   "outputs": [
    {
     "data": {
      "text/html": [
       "<div>\n",
       "<style scoped>\n",
       "    .dataframe tbody tr th:only-of-type {\n",
       "        vertical-align: middle;\n",
       "    }\n",
       "\n",
       "    .dataframe tbody tr th {\n",
       "        vertical-align: top;\n",
       "    }\n",
       "\n",
       "    .dataframe thead th {\n",
       "        text-align: right;\n",
       "    }\n",
       "</style>\n",
       "<table border=\"1\" class=\"dataframe\">\n",
       "  <thead>\n",
       "    <tr style=\"text-align: right;\">\n",
       "      <th></th>\n",
       "      <th>temp_air</th>\n",
       "      <th>wind_speed</th>\n",
       "      <th>ghi</th>\n",
       "      <th>dni</th>\n",
       "      <th>dhi</th>\n",
       "      <th>total_clouds</th>\n",
       "      <th>low_clouds</th>\n",
       "      <th>mid_clouds</th>\n",
       "      <th>high_clouds</th>\n",
       "    </tr>\n",
       "  </thead>\n",
       "  <tbody>\n",
       "    <tr>\n",
       "      <th>2021-10-10 02:00:00-07:00</th>\n",
       "      <td>14.687286</td>\n",
       "      <td>3.392805</td>\n",
       "      <td>0.000000</td>\n",
       "      <td>0.000000</td>\n",
       "      <td>0.000000</td>\n",
       "      <td>0.0</td>\n",
       "      <td>0.0</td>\n",
       "      <td>0.0</td>\n",
       "      <td>0.0</td>\n",
       "    </tr>\n",
       "    <tr>\n",
       "      <th>2021-10-10 05:00:00-07:00</th>\n",
       "      <td>12.874481</td>\n",
       "      <td>3.861574</td>\n",
       "      <td>0.000000</td>\n",
       "      <td>0.000000</td>\n",
       "      <td>0.000000</td>\n",
       "      <td>0.0</td>\n",
       "      <td>0.0</td>\n",
       "      <td>0.0</td>\n",
       "      <td>0.0</td>\n",
       "    </tr>\n",
       "    <tr>\n",
       "      <th>2021-10-10 08:00:00-07:00</th>\n",
       "      <td>20.050018</td>\n",
       "      <td>2.669077</td>\n",
       "      <td>279.278553</td>\n",
       "      <td>683.037885</td>\n",
       "      <td>59.050885</td>\n",
       "      <td>0.0</td>\n",
       "      <td>0.0</td>\n",
       "      <td>0.0</td>\n",
       "      <td>0.0</td>\n",
       "    </tr>\n",
       "    <tr>\n",
       "      <th>2021-10-10 11:00:00-07:00</th>\n",
       "      <td>35.247131</td>\n",
       "      <td>2.725825</td>\n",
       "      <td>760.592549</td>\n",
       "      <td>870.685238</td>\n",
       "      <td>119.472213</td>\n",
       "      <td>0.0</td>\n",
       "      <td>0.0</td>\n",
       "      <td>0.0</td>\n",
       "      <td>0.0</td>\n",
       "    </tr>\n",
       "    <tr>\n",
       "      <th>2021-10-10 14:00:00-07:00</th>\n",
       "      <td>37.785248</td>\n",
       "      <td>2.003306</td>\n",
       "      <td>695.555427</td>\n",
       "      <td>867.530738</td>\n",
       "      <td>104.729144</td>\n",
       "      <td>0.0</td>\n",
       "      <td>0.0</td>\n",
       "      <td>0.0</td>\n",
       "      <td>0.0</td>\n",
       "    </tr>\n",
       "  </tbody>\n",
       "</table>\n",
       "</div>"
      ],
      "text/plain": [
       "                            temp_air  wind_speed         ghi         dni  \\\n",
       "2021-10-10 02:00:00-07:00  14.687286    3.392805    0.000000    0.000000   \n",
       "2021-10-10 05:00:00-07:00  12.874481    3.861574    0.000000    0.000000   \n",
       "2021-10-10 08:00:00-07:00  20.050018    2.669077  279.278553  683.037885   \n",
       "2021-10-10 11:00:00-07:00  35.247131    2.725825  760.592549  870.685238   \n",
       "2021-10-10 14:00:00-07:00  37.785248    2.003306  695.555427  867.530738   \n",
       "\n",
       "                                  dhi  total_clouds  low_clouds  mid_clouds  \\\n",
       "2021-10-10 02:00:00-07:00    0.000000           0.0         0.0         0.0   \n",
       "2021-10-10 05:00:00-07:00    0.000000           0.0         0.0         0.0   \n",
       "2021-10-10 08:00:00-07:00   59.050885           0.0         0.0         0.0   \n",
       "2021-10-10 11:00:00-07:00  119.472213           0.0         0.0         0.0   \n",
       "2021-10-10 14:00:00-07:00  104.729144           0.0         0.0         0.0   \n",
       "\n",
       "                           high_clouds  \n",
       "2021-10-10 02:00:00-07:00          0.0  \n",
       "2021-10-10 05:00:00-07:00          0.0  \n",
       "2021-10-10 08:00:00-07:00          0.0  \n",
       "2021-10-10 11:00:00-07:00          0.0  \n",
       "2021-10-10 14:00:00-07:00          0.0  "
      ]
     },
     "execution_count": 6,
     "metadata": {},
     "output_type": "execute_result"
    }
   ],
   "source": [
    "data.head()"
   ]
  },
  {
   "cell_type": "code",
   "execution_count": 7,
   "id": "ca0ba902",
   "metadata": {},
   "outputs": [
    {
     "data": {
      "text/plain": [
       "<matplotlib.legend.Legend at 0x1453356bbb0>"
      ]
     },
     "execution_count": 7,
     "metadata": {},
     "output_type": "execute_result"
    },
    {
     "data": {
      "image/png": "[encoded data removed]",
      "text/plain": [
       "<Figure size 432x288 with 1 Axes>"
      ]
     },
     "metadata": {
      "needs_background": "light"
     },
     "output_type": "display_data"
    }
   ],
   "source": [
    "# plot cloud cover percentages\n",
    "cloud_vars = ['total_clouds', 'low_clouds',\n",
    "'mid_clouds', 'high_clouds']\n",
    "data[cloud_vars].plot()\n",
    "plt.ylabel('Cloud cover %')\n",
    "plt.xlabel('Forecast Time ({})'.format(tz))\n",
    "plt.title('GFS 0.5 deg forecast for lat={}, lon={}'\n",
    ".format(latitude, longitude))\n",
    "plt.legend()"
   ]
  },
  {
   "cell_type": "code",
   "execution_count": null,
   "id": "e69d937a",
   "metadata": {},
   "outputs": [],
   "source": []
  }
 ],
 "metadata": {
  "kernelspec": {
   "display_name": "Python 3 (ipykernel)",
   "language": "python",
   "name": "python3"
  },
  "language_info": {
   "codemirror_mode": {
    "name": "ipython",
    "version": 3
   },
   "file_extension": ".py",
   "mimetype": "text/x-python",
   "name": "python",
   "nbconvert_exporter": "python",
   "pygments_lexer": "ipython3",
   "version": "3.9.5"
  }
 },
 "nbformat": 4,
 "nbformat_minor": 5
}
